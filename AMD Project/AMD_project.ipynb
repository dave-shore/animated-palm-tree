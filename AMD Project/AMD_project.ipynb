{
  "nbformat": 4,
  "nbformat_minor": 0,
  "metadata": {
    "colab": {
      "name": "AMD project.ipynb",
      "provenance": [],
      "collapsed_sections": []
    },
    "kernelspec": {
      "display_name": "Python 3",
      "name": "python3"
    }
  },
  "cells": [
    {
      "cell_type": "markdown",
      "metadata": {
        "id": "_IBBoN2byaTO"
      },
      "source": [
        "##Report points:\n",
        "1. chosen dataset and which parts of it were used: only article and language columns (no date and site) and news in English only because it is useless to consider articles written in different languages together, so languages that are supported by NLTK and that we personally know\n",
        "2. organization of data: RDD with 2 columns in 4 partitions (control if 4 partitions is ok in Google Colab)\n",
        "3. pre-processing: selecting only language of interest, removing punctuation and stopwords, tokenizing the text (bag-of-words)\n",
        "4. algorithms: Apriori, Toivonen"
      ]
    },
    {
      "cell_type": "markdown",
      "metadata": {
        "id": "ogPy7oAEfzjs"
      },
      "source": [
        "##Import authorization token previously downloaded from Kaggle"
      ]
    },
    {
      "cell_type": "code",
      "metadata": {
        "colab": {
          "resources": {
            "http://localhost:8080/nbextensions/google.colab/files.js": {
              "data": "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",
              "ok": true,
              "headers": [
                [
                  "content-type",
                  "application/javascript"
                ]
              ],
              "status": 200,
              "status_text": ""
            }
          },
          "base_uri": "https://localhost:8080/",
          "height": 89
        },
        "id": "VojzOFnJaJFt",
        "outputId": "4ec6b0c9-3dd1-48d7-e6e4-14d3dd14e963"
      },
      "source": [
        "# upload token file kaggle.json\n",
        "\n",
        "from google.colab import files\n",
        "files.upload()"
      ],
      "execution_count": null,
      "outputs": [
        {
          "output_type": "display_data",
          "data": {
            "text/html": [
              "\n",
              "     <input type=\"file\" id=\"files-b8727af7-17ff-4f18-acfb-b4d3f44e3424\" name=\"files[]\" multiple disabled\n",
              "        style=\"border:none\" />\n",
              "     <output id=\"result-b8727af7-17ff-4f18-acfb-b4d3f44e3424\">\n",
              "      Upload widget is only available when the cell has been executed in the\n",
              "      current browser session. Please rerun this cell to enable.\n",
              "      </output>\n",
              "      <script src=\"/nbextensions/google.colab/files.js\"></script> "
            ],
            "text/plain": [
              "<IPython.core.display.HTML object>"
            ]
          },
          "metadata": {
            "tags": []
          }
        },
        {
          "output_type": "stream",
          "text": [
            "Saving kaggle.json to kaggle.json\n"
          ],
          "name": "stdout"
        },
        {
          "output_type": "execute_result",
          "data": {
            "text/plain": [
              "{'kaggle.json': b'{\"username\":\"davideriva\",\"key\":\"944a9991fe50dd19c5285280a9796ad0\"}'}"
            ]
          },
          "metadata": {
            "tags": []
          },
          "execution_count": 1
        }
      ]
    },
    {
      "cell_type": "code",
      "metadata": {
        "id": "tLlO20jMfjS1"
      },
      "source": [
        "# move the token file to the ./kaggle directory\n",
        "\n",
        "! mkdir ~/.kaggle\n",
        "! cp kaggle.json ~/.kaggle/\n",
        "! chmod 600 ~/.kaggle/kaggle.json"
      ],
      "execution_count": null,
      "outputs": []
    },
    {
      "cell_type": "markdown",
      "metadata": {
        "id": "-gMPxdTMtOo6"
      },
      "source": [
        "##Access Kaggle API, download the \"Old Newspapers\" dataset and unzip it\n"
      ]
    },
    {
      "cell_type": "code",
      "metadata": {
        "id": "0WJKDu-vlPU7"
      },
      "source": [
        "# authenticate to the Kaggle API\n",
        "\n",
        "import kaggle\n",
        "from kaggle.api.kaggle_api_extended import KaggleApi\n",
        "api = KaggleApi()\n",
        "api.authenticate()"
      ],
      "execution_count": null,
      "outputs": []
    },
    {
      "cell_type": "code",
      "metadata": {
        "id": "hoHJ7C8_imGy"
      },
      "source": [
        "# download and unzip \"Old Newspapers\" dataset\n",
        "\n",
        "import zipfile\n",
        "\n",
        "api.dataset_download_file(\"alvations/old-newspapers\", file_name=\"old-newspaper.tsv\", path=\"./\")\n",
        "\n",
        "with zipfile.ZipFile('old-newspaper.tsv.zip', 'r') as zipref:\n",
        "    zipref.extractall('./')"
      ],
      "execution_count": null,
      "outputs": []
    },
    {
      "cell_type": "markdown",
      "metadata": {
        "id": "c1-8GuU_tshI"
      },
      "source": [
        "##Initialize a SparkContext object and create the RDD"
      ]
    },
    {
      "cell_type": "code",
      "metadata": {
        "colab": {
          "base_uri": "https://localhost:8080/"
        },
        "id": "-J6Dkkq1H_Qc",
        "outputId": "9c18bdf2-9893-45e9-e257-15e85351e48b"
      },
      "source": [
        "# check number of available cores\n",
        "\n",
        "!cat /proc/cpuinfo"
      ],
      "execution_count": null,
      "outputs": [
        {
          "output_type": "stream",
          "text": [
            "processor\t: 0\n",
            "vendor_id\t: GenuineIntel\n",
            "cpu family\t: 6\n",
            "model\t\t: 63\n",
            "model name\t: Intel(R) Xeon(R) CPU @ 2.30GHz\n",
            "stepping\t: 0\n",
            "microcode\t: 0x1\n",
            "cpu MHz\t\t: 2300.000\n",
            "cache size\t: 46080 KB\n",
            "physical id\t: 0\n",
            "siblings\t: 2\n",
            "core id\t\t: 0\n",
            "cpu cores\t: 1\n",
            "apicid\t\t: 0\n",
            "initial apicid\t: 0\n",
            "fpu\t\t: yes\n",
            "fpu_exception\t: yes\n",
            "cpuid level\t: 13\n",
            "wp\t\t: yes\n",
            "flags\t\t: fpu vme de pse tsc msr pae mce cx8 apic sep mtrr pge mca cmov pat pse36 clflush mmx fxsr sse sse2 ss ht syscall nx pdpe1gb rdtscp lm constant_tsc rep_good nopl xtopology nonstop_tsc cpuid tsc_known_freq pni pclmulqdq ssse3 fma cx16 pcid sse4_1 sse4_2 x2apic movbe popcnt aes xsave avx f16c rdrand hypervisor lahf_lm abm invpcid_single ssbd ibrs ibpb stibp fsgsbase tsc_adjust bmi1 avx2 smep bmi2 erms invpcid xsaveopt arat md_clear arch_capabilities\n",
            "bugs\t\t: cpu_meltdown spectre_v1 spectre_v2 spec_store_bypass l1tf mds swapgs\n",
            "bogomips\t: 4600.00\n",
            "clflush size\t: 64\n",
            "cache_alignment\t: 64\n",
            "address sizes\t: 46 bits physical, 48 bits virtual\n",
            "power management:\n",
            "\n",
            "processor\t: 1\n",
            "vendor_id\t: GenuineIntel\n",
            "cpu family\t: 6\n",
            "model\t\t: 63\n",
            "model name\t: Intel(R) Xeon(R) CPU @ 2.30GHz\n",
            "stepping\t: 0\n",
            "microcode\t: 0x1\n",
            "cpu MHz\t\t: 2300.000\n",
            "cache size\t: 46080 KB\n",
            "physical id\t: 0\n",
            "siblings\t: 2\n",
            "core id\t\t: 0\n",
            "cpu cores\t: 1\n",
            "apicid\t\t: 1\n",
            "initial apicid\t: 1\n",
            "fpu\t\t: yes\n",
            "fpu_exception\t: yes\n",
            "cpuid level\t: 13\n",
            "wp\t\t: yes\n",
            "flags\t\t: fpu vme de pse tsc msr pae mce cx8 apic sep mtrr pge mca cmov pat pse36 clflush mmx fxsr sse sse2 ss ht syscall nx pdpe1gb rdtscp lm constant_tsc rep_good nopl xtopology nonstop_tsc cpuid tsc_known_freq pni pclmulqdq ssse3 fma cx16 pcid sse4_1 sse4_2 x2apic movbe popcnt aes xsave avx f16c rdrand hypervisor lahf_lm abm invpcid_single ssbd ibrs ibpb stibp fsgsbase tsc_adjust bmi1 avx2 smep bmi2 erms invpcid xsaveopt arat md_clear arch_capabilities\n",
            "bugs\t\t: cpu_meltdown spectre_v1 spectre_v2 spec_store_bypass l1tf mds swapgs\n",
            "bogomips\t: 4600.00\n",
            "clflush size\t: 64\n",
            "cache_alignment\t: 64\n",
            "address sizes\t: 46 bits physical, 48 bits virtual\n",
            "power management:\n",
            "\n"
          ],
          "name": "stdout"
        }
      ]
    },
    {
      "cell_type": "code",
      "metadata": {
        "colab": {
          "base_uri": "https://localhost:8080/"
        },
        "id": "ZpwHvyh7fyls",
        "outputId": "d5a3c0f8-8d6f-4205-e1b3-79ef0b655258"
      },
      "source": [
        "# initialize a SparkContext object \n",
        "\n",
        "! pip install pyspark\n",
        "\n",
        "import pyspark\n",
        "sc = pyspark.SparkContext()"
      ],
      "execution_count": null,
      "outputs": [
        {
          "output_type": "stream",
          "text": [
            "Collecting pyspark\n",
            "\u001b[?25l  Downloading https://files.pythonhosted.org/packages/45/b0/9d6860891ab14a39d4bddf80ba26ce51c2f9dc4805e5c6978ac0472c120a/pyspark-3.1.1.tar.gz (212.3MB)\n",
            "\u001b[K     |████████████████████████████████| 212.3MB 65kB/s \n",
            "\u001b[?25hCollecting py4j==0.10.9\n",
            "\u001b[?25l  Downloading https://files.pythonhosted.org/packages/9e/b6/6a4fb90cd235dc8e265a6a2067f2a2c99f0d91787f06aca4bcf7c23f3f80/py4j-0.10.9-py2.py3-none-any.whl (198kB)\n",
            "\u001b[K     |████████████████████████████████| 204kB 39.1MB/s \n",
            "\u001b[?25hBuilding wheels for collected packages: pyspark\n",
            "  Building wheel for pyspark (setup.py) ... \u001b[?25l\u001b[?25hdone\n",
            "  Created wheel for pyspark: filename=pyspark-3.1.1-py2.py3-none-any.whl size=212767604 sha256=dd518260f65e2d2cd8d0c9992c966c18e653a8baa104f9c588d1c9c7497dca2c\n",
            "  Stored in directory: /root/.cache/pip/wheels/0b/90/c0/01de724414ef122bd05f056541fb6a0ecf47c7ca655f8b3c0f\n",
            "Successfully built pyspark\n",
            "Installing collected packages: py4j, pyspark\n",
            "Successfully installed py4j-0.10.9 pyspark-3.1.1\n"
          ],
          "name": "stdout"
        }
      ]
    },
    {
      "cell_type": "code",
      "metadata": {
        "colab": {
          "base_uri": "https://localhost:8080/"
        },
        "id": "xNQemkgeuSE2",
        "outputId": "0baec891-6fdd-4953-87ee-92e5aa6bf076"
      },
      "source": [
        "# create an RDD from the \"Old Newspapers\" dataset and display the first instance\n",
        "\n",
        "newsRDD = sc.textFile(\"old-newspaper.tsv\", 2)\n",
        "newsRDD.take(1)"
      ],
      "execution_count": null,
      "outputs": [
        {
          "output_type": "execute_result",
          "data": {
            "text/plain": [
              "['Language\\tSource\\tDate\\tText']"
            ]
          },
          "metadata": {
            "tags": []
          },
          "execution_count": 7
        }
      ]
    },
    {
      "cell_type": "markdown",
      "metadata": {
        "id": "u4hr7pqh_x0G"
      },
      "source": [
        "##Preprocessing"
      ]
    },
    {
      "cell_type": "code",
      "metadata": {
        "id": "HfNbKmD_72TO"
      },
      "source": [
        "# define function to split elements of a row\n",
        "\n",
        "def split_row(x):\n",
        "\n",
        "  tup = x.split('''\\t''')\n",
        "  \n",
        "  date = tup[2]\n",
        "  year = date[:4]  \n",
        "\n",
        "  return (tup[0], year, tup[3])"
      ],
      "execution_count": null,
      "outputs": []
    },
    {
      "cell_type": "code",
      "metadata": {
        "colab": {
          "base_uri": "https://localhost:8080/"
        },
        "id": "517Eb4PU0DMf",
        "outputId": "a971f5d7-8f3d-41bd-99ae-b55e2a12d678"
      },
      "source": [
        "subRDD = newsRDD.map(split_row)\n",
        "subRDD.take(1)"
      ],
      "execution_count": null,
      "outputs": [
        {
          "output_type": "execute_result",
          "data": {
            "text/plain": [
              "[('Language', 'Date', 'Text')]"
            ]
          },
          "metadata": {
            "tags": []
          },
          "execution_count": 9
        }
      ]
    },
    {
      "cell_type": "code",
      "metadata": {
        "colab": {
          "background_save": true
        },
        "id": "W52tze4fJOVj",
        "outputId": "794bb8a8-4ce1-4d23-a42f-79a25008e03f"
      },
      "source": [
        "# count by years\n",
        "\n",
        "subRDD.map(lambda t: t[1]).countByValue()"
      ],
      "execution_count": null,
      "outputs": [
        {
          "output_type": "execute_result",
          "data": {
            "text/plain": [
              "defaultdict(int,\n",
              "            {'1970': 6,\n",
              "             '2000': 6075,\n",
              "             '2001': 7811,\n",
              "             '2002': 6183,\n",
              "             '2003': 8452,\n",
              "             '2004': 20091,\n",
              "             '2005': 77733,\n",
              "             '2006': 169678,\n",
              "             '2007': 369179,\n",
              "             '2008': 687741,\n",
              "             '2009': 1494895,\n",
              "             '2010': 3207680,\n",
              "             '2011': 7247763,\n",
              "             '2012': 2812367,\n",
              "             '2013': 380469,\n",
              "             'Date': 1,\n",
              "             'UNKN': 309918})"
            ]
          },
          "metadata": {
            "tags": []
          },
          "execution_count": 0
        }
      ]
    },
    {
      "cell_type": "code",
      "metadata": {
        "colab": {
          "base_uri": "https://localhost:8080/"
        },
        "id": "7Xq9wjPVTNB8",
        "outputId": "1e77a3eb-00cc-45e4-d58c-c8ccbf4f3bd2"
      },
      "source": [
        "# look directly at those with year = 'Date' or year = '1970'\n",
        "\n",
        "subRDD.filter(lambda t: t[1]=='Date' or t[1]=='1970') \\\n",
        "      .collect()"
      ],
      "execution_count": null,
      "outputs": [
        {
          "output_type": "execute_result",
          "data": {
            "text/plain": [
              "[('French',\n",
              "  '1970',\n",
              "  'La paire avait inscrit 12 buts en quatre mois. La marche semble haute pour les néo-Auxerrois. Comme pour Jelen.'),\n",
              " ('French', '1970', 'Les promesses de Fall'),\n",
              " ('French',\n",
              "  '1970',\n",
              "  \"Ce que l'on sait, d'ores-et-déjà, c'est que Jelen (en fin de contrat en juin) a peu de chances d'en faire partie. La tendance de l'hiver ne sera peut-être pas celle de l'été, certes. Mais il y a quelques jours, Jean Fernandez s'était montré plutôt catégorique : « Jelen partira en fin de saison ».\"),\n",
              " ('Language', 'Date', 'Text'),\n",
              " ('French',\n",
              "  '1970',\n",
              "  \"Habitué depuis deux ans à faire venir des attaquants au mercato hivernal (Quercia en 2008 et Birsa en 2009), Jean Fernandez justifie les arrivées de Jo-Gook et Fall comme des choix « d'avenir ». Et éclaire sur la capacité de ces joueurs à réussir à court terme. « L'expérience me fait dire qu'il y a plus d'échecs que de réussite au mercato d'hiver. Lorsque j'étais à Marseille, Maoulida et Pagis avaient été de bonnes recrues ».\"),\n",
              " ('French',\n",
              "  '1970',\n",
              "  \"Deux joueurs qui n'ont rien coûté, ou presque, à l'AJA fidèle à sa stratégie de recruter malin. Jo-Gook, auteur d'une apparition en Coupe de France et une en Ligue 1, a confirmé que « le Patriot », comme il est surnommé en Corée du Sud, aura besoin de quelques mois d'adaptation.\"),\n",
              " ('French',\n",
              "  '1970',\n",
              "  \"Compte tenu de l'incertitude qui pèse sur l'avenir en fin de saison de beaucoup d'éléments clé de l'effectif, à commencer par celui de Jean Fernandez, il apparaît très prématuré d'envisager dès maintenant l'AJA version 2011/2012.\")]"
            ]
          },
          "metadata": {
            "tags": []
          },
          "execution_count": 11
        }
      ]
    },
    {
      "cell_type": "code",
      "metadata": {
        "colab": {
          "base_uri": "https://localhost:8080/"
        },
        "id": "zWlmrMgiUG3p",
        "outputId": "ce545d82-c8c2-4b92-b143-584f1c7afe41"
      },
      "source": [
        "# look at the language in which the ones with unknown date were written\n",
        "\n",
        "subRDD.filter(lambda t: t[1]=='UNKN') \\\n",
        "      .map(lambda t: t[0]) \\\n",
        "      .countByValue()  # all in Spanish"
      ],
      "execution_count": null,
      "outputs": [
        {
          "output_type": "execute_result",
          "data": {
            "text/plain": [
              "defaultdict(int, {'Spanish': 309918})"
            ]
          },
          "metadata": {
            "tags": []
          },
          "execution_count": 12
        }
      ]
    },
    {
      "cell_type": "code",
      "metadata": {
        "id": "jdMmIVGo8aXo"
      },
      "source": [
        "# we wont consider news in Spanish and French, so we can forget about anomalous year values\n",
        "# build English RDD and count how many articles for English\n",
        "# to repeat the whole process for any other language (we did it for Italian), just substitute the language here\n",
        "\n",
        "textRDD = subRDD.filter(lambda x: x[0]=='English')"
      ],
      "execution_count": null,
      "outputs": []
    },
    {
      "cell_type": "code",
      "metadata": {
        "colab": {
          "base_uri": "https://localhost:8080/"
        },
        "id": "fLqHI9DDUtGi",
        "outputId": "f1cf915a-824c-4cef-ed5d-9a308166d7d2"
      },
      "source": [
        "textRDD.take(5)"
      ],
      "execution_count": null,
      "outputs": [
        {
          "output_type": "execute_result",
          "data": {
            "text/plain": [
              "[('English', '2012', \"He wasn't home alone, apparently.\"),\n",
              " ('English',\n",
              "  '2011',\n",
              "  'The St. Louis plant had to close. It would die of old age. Workers had been making cars there since the onset of mass automotive production in the 1920s.'),\n",
              " ('English',\n",
              "  '2012',\n",
              "  \"WSU's plans quickly became a hot topic on local online sites. Though most people applauded plans for the new biomedical center, many deplored the potential loss of the building.\"),\n",
              " ('English',\n",
              "  '2011',\n",
              "  'The Alaimo Group of Mount Holly was up for a contract last fall to evaluate and suggest improvements to Trenton Water Works. But campaign finance records released this week show the two employees donated a total of $4,500 to the political action committee (PAC) Partners for Progress in early June. Partners for Progress reported it gave more than $10,000 in both direct and in-kind contributions to Mayor Tony Mack in the two weeks leading up to his victory in the mayoral runoff election June 15.'),\n",
              " ('English',\n",
              "  '2011',\n",
              "  \"And when it's often difficult to predict a law's impact, legislators should think twice before carrying any bill. Is it absolutely necessary? Is it an issue serious enough to merit their attention? Will it definitely not make the situation worse?\")]"
            ]
          },
          "metadata": {
            "tags": []
          },
          "execution_count": 11
        }
      ]
    },
    {
      "cell_type": "code",
      "metadata": {
        "id": "SDS9i91POJkF"
      },
      "source": [
        "textRDD = textRDD.sample(withReplacement = False, fraction = 0.1, seed = 1262).repartition(2)                 ### FOR TESTING PURPOSES"
      ],
      "execution_count": null,
      "outputs": []
    },
    {
      "cell_type": "code",
      "metadata": {
        "colab": {
          "base_uri": "https://localhost:8080/"
        },
        "id": "Po821Fsg9Ong",
        "outputId": "634f5839-10a5-4f05-ffc9-e04fcbd37fec"
      },
      "source": [
        "N = textRDD.count()\n",
        "N"
      ],
      "execution_count": null,
      "outputs": [
        {
          "output_type": "execute_result",
          "data": {
            "text/plain": [
              "100933"
            ]
          },
          "metadata": {
            "tags": []
          },
          "execution_count": 13
        }
      ]
    },
    {
      "cell_type": "code",
      "metadata": {
        "colab": {
          "base_uri": "https://localhost:8080/"
        },
        "id": "u_G99JSnCMkj",
        "outputId": "69db53b1-5d4e-43f3-b467-ce8e91038e59"
      },
      "source": [
        "# define a function to tokenize and lemmatize news\n",
        "\n",
        "import nltk\n",
        "nltk.download('punkt')\n",
        "nltk.download('stopwords')\n",
        "nltk.download('wordnet')\n",
        "\n",
        "import re\n",
        "\n",
        "from nltk.corpus import stopwords\n",
        "\n",
        "from numpy import unique\n",
        "from string import punctuation\n",
        "\n",
        "def preprocess(tup):\n",
        "\n",
        "  ### ARGS\n",
        "  # tup = (language, date, text)\n",
        "\n",
        "  ### OUTPUT\n",
        "  # list of lemmatized tokens in the text field\n",
        "\n",
        "  ### REQUIRES\n",
        "  # libraries: nltk, re, numpy.unique, string.punctuation\n",
        "  # modules (nltk): stopwords, punkt, wordnet \n",
        "\n",
        "  if tup[0] == 'English':\n",
        "    sw = stopwords.words(\"english\") + list(punctuation) + [\"n't\", \"'m\", \"'d\", \"'re\", \"'s\",\"'ve\", \"'ll\", '``', \"''\", \"--\", '“', '’','”','...',\"«\", \"»\", \"–\"]\n",
        "  else:\n",
        "    sw = stopwords.words(\"italian\") + list(punctuation) + [\"«\", \"»\", \"–\",'``', \"''\", \"--\", '“', '’','”','...']\n",
        "\n",
        "  text = re.sub(r'[^a-zA-z0-9.,!?/:;\\\"\\'\\s]', '', tup[2])\n",
        "\n",
        "  lemmatizer = nltk.WordNetLemmatizer()\n",
        "  tokenized_text = nltk.word_tokenize(text.lower())\n",
        "  tokenized_text = list(unique(tokenized_text))\n",
        "\n",
        "  return [lemmatizer.lemmatize(w) for w in tokenized_text if w not in sw]"
      ],
      "execution_count": null,
      "outputs": [
        {
          "output_type": "stream",
          "text": [
            "[nltk_data] Downloading package punkt to /root/nltk_data...\n",
            "[nltk_data]   Unzipping tokenizers/punkt.zip.\n",
            "[nltk_data] Downloading package stopwords to /root/nltk_data...\n",
            "[nltk_data]   Unzipping corpora/stopwords.zip.\n",
            "[nltk_data] Downloading package wordnet to /root/nltk_data...\n",
            "[nltk_data]   Unzipping corpora/wordnet.zip.\n"
          ],
          "name": "stdout"
        }
      ]
    },
    {
      "cell_type": "code",
      "metadata": {
        "colab": {
          "base_uri": "https://localhost:8080/"
        },
        "id": "XWEmqbrrTh8S",
        "outputId": "a911cfdc-c817-42e8-e7b2-e887959560ed"
      },
      "source": [
        "# apply preprocessing and remove eventually empty bags-of-words\n",
        "### WARNING: TO BE RUN TWICE\n",
        "# don't understand why the first time it doesn't work, while the second time it does\n",
        "\n",
        "text_tokenized = textRDD.map(preprocess)\n",
        "text_tokenized = text_tokenized.filter(lambda bow: len(bow) > 0)\n",
        "N = text_tokenized.count()\n",
        "N"
      ],
      "execution_count": null,
      "outputs": [
        {
          "output_type": "execute_result",
          "data": {
            "text/plain": [
              "100897"
            ]
          },
          "metadata": {
            "tags": []
          },
          "execution_count": 16
        }
      ]
    },
    {
      "cell_type": "code",
      "metadata": {
        "colab": {
          "base_uri": "https://localhost:8080/"
        },
        "id": "D1FROyjpaqG9",
        "outputId": "27982a0d-6625-4b31-f072-32c9e0f4fcbc"
      },
      "source": [
        "# example\n",
        "\n",
        "textRDD.take(1), text_tokenized.take(1)"
      ],
      "execution_count": null,
      "outputs": [
        {
          "output_type": "execute_result",
          "data": {
            "text/plain": [
              "([('English',\n",
              "   '2009',\n",
              "   '\"\"\"I kept pitching like it was a one-run game,\"\" he said. \"\"I never even looked at the scoreboard.\"\"\"')],\n",
              " [['even',\n",
              "   'game',\n",
              "   'kept',\n",
              "   'like',\n",
              "   'looked',\n",
              "   'never',\n",
              "   'onerun',\n",
              "   'pitching',\n",
              "   'said',\n",
              "   'scoreboard']])"
            ]
          },
          "metadata": {
            "tags": []
          },
          "execution_count": 17
        }
      ]
    },
    {
      "cell_type": "markdown",
      "metadata": {
        "id": "Eo_5PRNafiAv"
      },
      "source": [
        "Draw histogram of bag-of-words length"
      ]
    },
    {
      "cell_type": "code",
      "metadata": {
        "id": "WAI1tNA7f5fV"
      },
      "source": [
        "import seaborn as sns\n",
        "import matplotlib.pyplot as plt"
      ],
      "execution_count": null,
      "outputs": []
    },
    {
      "cell_type": "code",
      "metadata": {
        "id": "-5qS5kQgfg0i",
        "colab": {
          "base_uri": "https://localhost:8080/",
          "height": 571
        },
        "outputId": "50f0e769-08c9-4861-c35f-bc161a6cb50f"
      },
      "source": [
        "lengths = text_tokenized.map(len) \\\n",
        "                       .collect()\n",
        "\n",
        "f, ax = plt.subplots(figsize = (12,8))\n",
        "sns.histplot(data = lengths, binwidth = 5, ax = ax)\n",
        "ax.set_xlabel(\"Number of words per document\")\n",
        "f.suptitle(\"Histogram of bag-of-words lengths\")\n"
      ],
      "execution_count": null,
      "outputs": [
        {
          "output_type": "execute_result",
          "data": {
            "text/plain": [
              "Text(0.5, 0.98, 'Histogram of bag-of-words lengths')"
            ]
          },
          "metadata": {
            "tags": []
          },
          "execution_count": 19
        },
        {
          "output_type": "display_data",
          "data": {
            "image/png": "[encoded data removed]",
            "text/plain": [
              "<Figure size 864x576 with 1 Axes>"
            ]
          },
          "metadata": {
            "tags": [],
            "needs_background": "light"
          }
        }
      ]
    },
    {
      "cell_type": "markdown",
      "metadata": {
        "id": "yNUVHTTn__DD"
      },
      "source": [
        "##A-Priori Algorithm\n"
      ]
    },
    {
      "cell_type": "code",
      "metadata": {
        "id": "PokF9opou2Do"
      },
      "source": [
        "# SINGLETONS\n",
        "# define function to iteratively sum counters of equal words\n",
        "\n",
        "def sumcum(x,y):\n",
        "  return x+y"
      ],
      "execution_count": null,
      "outputs": []
    },
    {
      "cell_type": "code",
      "metadata": {
        "id": "uLIF6hRinZPF"
      },
      "source": [
        "import itertools"
      ],
      "execution_count": null,
      "outputs": []
    },
    {
      "cell_type": "markdown",
      "metadata": {
        "id": "XytSMC9AxeQX"
      },
      "source": [
        "### Threshold = 0.01"
      ]
    },
    {
      "cell_type": "code",
      "metadata": {
        "id": "SjECjo3tx9Me"
      },
      "source": [
        "threshold = 0.01"
      ],
      "execution_count": null,
      "outputs": []
    },
    {
      "cell_type": "code",
      "metadata": {
        "id": "V9kMcoTExnK0"
      },
      "source": [
        "#eng counters\n",
        "\n",
        "freq_items = text_tokenized.flatMap(lambda bow: [(word, 1) for word in bow]) \\\n",
        "                                 .reduceByKey(sumcum) \\\n",
        "                                 .filter(lambda t: t[1] >= threshold*N) \\\n",
        "                                 .collect()"
      ],
      "execution_count": null,
      "outputs": []
    },
    {
      "cell_type": "code",
      "metadata": {
        "id": "bN03yVdowJ6N"
      },
      "source": [
        "#eng singletons\n",
        "freq_singletons = list(map(lambda x: x[0], freq_items))"
      ],
      "execution_count": null,
      "outputs": []
    },
    {
      "cell_type": "code",
      "metadata": {
        "id": "w1zpTmFa0AFw"
      },
      "source": [
        "counters_1perc = []\n",
        "counters_1perc.append(len(freq_singletons))"
      ],
      "execution_count": null,
      "outputs": []
    },
    {
      "cell_type": "code",
      "metadata": {
        "id": "Ih5zMa_InZY9"
      },
      "source": [
        "candidates = list(itertools.combinations(freq_singletons, 2))\n",
        "candidates = list(map(set, candidates))"
      ],
      "execution_count": null,
      "outputs": []
    },
    {
      "cell_type": "code",
      "metadata": {
        "id": "Xh0U05k-nZkm"
      },
      "source": [
        "### FIND CANDIDATE ITEMSETS IN THE ROWS OF RDD: PLAN A\n",
        "\n",
        "def candidate_combinations(bow, candidates):\n",
        "\n",
        "  return [(tuple(c), 1) for c in candidates if c.issubset(set(bow))]"
      ],
      "execution_count": null,
      "outputs": []
    },
    {
      "cell_type": "code",
      "metadata": {
        "id": "9vzfisZInZvU"
      },
      "source": [
        "### FIND CANDIDATE ITEMSETS IN THE ROWS OF RDD: PLAN B\n",
        "\n",
        "from numpy import searchsorted\n",
        "\n",
        "def find_in_bow(candidates, bow):\n",
        "\n",
        "  output = []\n",
        "\n",
        "  for itemset in candidates:\n",
        "    for item in itemset:\n",
        "      x = searchsorted(bow, item)\n",
        "      if (x >= len(bow) or bow[x] != item):\n",
        "        break\n",
        "    else:\n",
        "      output.append((itemset, 1))\n",
        "\n",
        "  return output"
      ],
      "execution_count": null,
      "outputs": []
    },
    {
      "cell_type": "code",
      "metadata": {
        "id": "PeJdr-cPnZ8A"
      },
      "source": [
        "### FIND CANDIDATE ITEMSETS IN THE ROWS OF RDD: PLAN C\n",
        "\n",
        "# requires candidates to be all of equal length\n",
        "\n",
        "def candidates_with_itertools(bow, candidates):\n",
        "\n",
        "  K = len(candidates[0])\n",
        "\n",
        "  combos = list(itertools.combinations(bow, K))\n",
        "\n",
        "  combos = list(filter(lambda c: set(c) in candidates, combos))\n",
        "\n",
        "  combos = list(map(lambda c: (c,1), combos))\n",
        "\n",
        "  return combos"
      ],
      "execution_count": null,
      "outputs": []
    },
    {
      "cell_type": "code",
      "metadata": {
        "id": "9n1nLd_snaGt"
      },
      "source": [
        "# testing which function is the fastest\n",
        "\n",
        "from time import time\n",
        "\n",
        "testbows = text_tokenized.takeSample(withReplacement = False, num = 100, seed = 1262)\n",
        "\n",
        "start = time()\n",
        "[candidate_combinations(bow, candidates) for bow in testbows]\n",
        "time_cc = time() - start\n",
        "\n",
        "start = time()\n",
        "[find_in_bow(candidates, bow) for bow in testbows]\n",
        "time_fib = time() - start\n",
        "\n",
        "start = time()\n",
        "[candidates_with_itertools(bow, candidates) for bow in testbows]\n",
        "time_cwi = time() - start\n",
        "\n",
        "time_cc, time_fib, time_cwi       "
      ],
      "execution_count": null,
      "outputs": []
    },
    {
      "cell_type": "code",
      "metadata": {
        "id": "SP9_CgkjyOFJ"
      },
      "source": [
        "#eng frequent pairs - it takes 35min for running\n",
        "new_freq_itemsets = text_tokenized.flatMap(lambda bow: candidate_combinations(bow, candidates)) \\\n",
        "                       .reduceByKey(sumcum) \\\n",
        "                       .filter(lambda t: t[1] >= threshold*N) \\\n",
        "                       .collect()"
      ],
      "execution_count": null,
      "outputs": []
    },
    {
      "cell_type": "code",
      "metadata": {
        "id": "sb58Ba4iyUF_"
      },
      "source": [
        "#eng pairs with counters\n",
        "old_freq_itemsets = list(map(lambda x: x[0], new_freq_itemsets))"
      ],
      "execution_count": null,
      "outputs": []
    },
    {
      "cell_type": "code",
      "metadata": {
        "id": "9g9Xuw0T0DoQ"
      },
      "source": [
        "#length frequent eng pairs\n",
        "counters_1perc.append(len(old_freq_itemsets))"
      ],
      "execution_count": null,
      "outputs": []
    },
    {
      "cell_type": "code",
      "metadata": {
        "id": "w3CoDlgyFflr"
      },
      "source": [
        "### FIND CANDIDATE ITEMSETS OF CARDINALITY K GIVEN FREQUENT ITEMSETS OF CARDINALITY K-1, FOR K > 2\n",
        "# we don't need all combinations of elements of frequent itemsets,\n",
        "# but itemsets whose immediate subsets are ALL frequent\n",
        "# the next function is to be used for K > 2, whereas for K = 2 we may simply use itertools.combinations()\n",
        "\n",
        "def find_candidate_itemsets(old_freq_itemsets, K):\n",
        "\n",
        "  ### ARGS\n",
        "  # old_freq_itemsets --> list of itemsets that were found to be frequent in previous pass\n",
        "  # K --> cardinality of new candidate itemsets\n",
        "\n",
        "  ### OUTPUT\n",
        "  # list of candidate itemsets, as sets\n",
        "\n",
        "  ### REQUIRES\n",
        "  # libraries: itertools\n",
        "\n",
        "  candidates = []\n",
        "\n",
        "  for comb in list(itertools.combinations(old_freq_itemsets, K)):               # for each combination of K itemsets, e.g. [('a','b'),('c','a'),('b','c')]\n",
        "    cand = set().union(*comb)                                                   # define the union set, e.g. {'a','b','c'}\n",
        "    if len(cand) == K:\n",
        "      candidates.append(cand)                                                   # and let the union be a candidate itemset if its cardinality is K\n",
        "\n",
        "  return candidates                                                             # returns list of sets"
      ],
      "execution_count": null,
      "outputs": []
    },
    {
      "cell_type": "code",
      "metadata": {
        "id": "T4J3022JFi1b"
      },
      "source": [
        "candidates = find_candidate_itemsets(old_freq_itemsets, K = 3)\n",
        "new_freq_itemsets3 = text_tokenized.flatMap(lambda bow: candidate_combinations(bow, candidates)) \\\n",
        "                       .reduceByKey(sumcum) \\\n",
        "                       .filter(lambda t: t[1] >= threshold*N) \\\n",
        "                       .collect()"
      ],
      "execution_count": null,
      "outputs": []
    },
    {
      "cell_type": "code",
      "metadata": {
        "colab": {
          "base_uri": "https://localhost:8080/"
        },
        "id": "KevHcSQxF0F2",
        "outputId": "45851a4d-cebb-4d0d-954e-59369d1a07da"
      },
      "source": [
        "len(new_freq_itemsets3)"
      ],
      "execution_count": null,
      "outputs": [
        {
          "output_type": "execute_result",
          "data": {
            "text/plain": [
              "0"
            ]
          },
          "metadata": {
            "tags": []
          },
          "execution_count": 21
        }
      ]
    },
    {
      "cell_type": "code",
      "metadata": {
        "colab": {
          "base_uri": "https://localhost:8080/"
        },
        "id": "mL9Q-8bp6dtj",
        "outputId": "2c107085-65de-45ae-d166-fef99568dae8"
      },
      "source": [
        "counters_1perc"
      ],
      "execution_count": null,
      "outputs": [
        {
          "output_type": "execute_result",
          "data": {
            "text/plain": [
              "[251, 20]"
            ]
          },
          "metadata": {
            "tags": []
          },
          "execution_count": 45
        }
      ]
    },
    {
      "cell_type": "markdown",
      "metadata": {
        "id": "7FqAAbPS3Pdx"
      },
      "source": [
        "### Threshold = 0.02"
      ]
    },
    {
      "cell_type": "code",
      "metadata": {
        "id": "_Fv-T6oOxLCc"
      },
      "source": [
        "threshold = 0.02"
      ],
      "execution_count": null,
      "outputs": []
    },
    {
      "cell_type": "code",
      "metadata": {
        "id": "rjSzLM7-vAYw"
      },
      "source": [
        "# sum all counters to obtain singleton counts\n",
        "\n",
        "freq_items = text_tokenized.flatMap(lambda bow: [(word, 1) for word in bow]) \\\n",
        "                                 .reduceByKey(sumcum) \\\n",
        "                                 .filter(lambda t: t[1] >= threshold*N) \\\n",
        "                                 .collect()\n"
      ],
      "execution_count": null,
      "outputs": []
    },
    {
      "cell_type": "code",
      "metadata": {
        "id": "7csaz7iSypKA"
      },
      "source": [
        "# filters the counters exceeding the threshold\n",
        "\n",
        "freq_singletons = list(map(lambda x: x[0], freq_items))"
      ],
      "execution_count": null,
      "outputs": []
    },
    {
      "cell_type": "code",
      "metadata": {
        "id": "91W11I53b7tH"
      },
      "source": [
        "#computing the length of frequent singletons in english\n",
        "\n",
        "counters_2perc = []\n",
        "\n",
        "counters_2perc.append(len(freq_singletons))"
      ],
      "execution_count": null,
      "outputs": []
    },
    {
      "cell_type": "markdown",
      "metadata": {
        "id": "EoPQlFUizpk8"
      },
      "source": [
        "Which are the frequent singletons, weighted by their frequency?"
      ]
    },
    {
      "cell_type": "code",
      "metadata": {
        "id": "s86clvMkmYLA"
      },
      "source": [
        "#importing the libraries for depicting the wordcloud\n",
        "\n",
        "import seaborn as sns\n",
        "import matplotlib.pyplot as plt\n",
        "from wordcloud import WordCloud"
      ],
      "execution_count": null,
      "outputs": []
    },
    {
      "cell_type": "code",
      "metadata": {
        "id": "jSEJl1GBowNv"
      },
      "source": [
        "#defining a function for converting lists into strings\n",
        "\n",
        "def convert_list_to_string(org_list, seperator=' '):\n",
        "    \"\"\" Convert list to string, by joining all item in list with given separator.\n",
        "        Returns the concatenated string \"\"\"\n",
        "    return seperator.join(org_list)"
      ],
      "execution_count": null,
      "outputs": []
    },
    {
      "cell_type": "code",
      "metadata": {
        "id": "v1kGhLKQoI4a"
      },
      "source": [
        "#converting the list of freq_singletons in strings\n",
        "\n",
        "string = convert_list_to_string(freq_singletons)"
      ],
      "execution_count": null,
      "outputs": []
    },
    {
      "cell_type": "code",
      "metadata": {
        "colab": {
          "base_uri": "https://localhost:8080/",
          "height": 417
        },
        "id": "uPHzj0Vwlibo",
        "outputId": "d5bd7826-42b4-41a8-9aed-b4926a254a68"
      },
      "source": [
        "#defining the worldcloud\n",
        "\n",
        "wordcloud = WordCloud(background_color = \"white\").generate(string)\n",
        "\n",
        "# displaying the wordcloud\n",
        "\n",
        "plt.figure(figsize = (14, 10))\n",
        "plt.imshow(wordcloud)\n",
        "plt.axis(\"off\")\n",
        "plt.show();\n",
        "\n",
        "# it might be different each time due to sampling"
      ],
      "execution_count": null,
      "outputs": [
        {
          "output_type": "display_data",
          "data": {
            "image/png": "[encoded data removed]",
            "text/plain": [
              "<Figure size 1008x720 with 1 Axes>"
            ]
          },
          "metadata": {
            "tags": [],
            "needs_background": "light"
          }
        }
      ]
    },
    {
      "cell_type": "markdown",
      "metadata": {
        "id": "kx-i65Yiak7F"
      },
      "source": [
        "------------------------------------------"
      ]
    },
    {
      "cell_type": "markdown",
      "metadata": {
        "id": "WHAL-yQszz33"
      },
      "source": [
        "Now we turn to itemsets of cardinality > 1"
      ]
    },
    {
      "cell_type": "code",
      "metadata": {
        "id": "jxEX5gloEeWB"
      },
      "source": [
        "candidates = list(itertools.combinations(freq_singletons, 2))\n",
        "candidates = list(map(set, candidates))"
      ],
      "execution_count": null,
      "outputs": []
    },
    {
      "cell_type": "code",
      "metadata": {
        "id": "NnDRO6a2qeEy"
      },
      "source": [
        "# use candidate_combinations to count occurrences of candidates in the RDD -35 minutes to run\n",
        "\n",
        "new_freq_itemsets = text_tokenized.flatMap(lambda bow: candidate_combinations(bow, candidates)) \\\n",
        "                       .reduceByKey(sumcum) \\\n",
        "                       .filter(lambda t: t[1] >= threshold*N) \\\n",
        "                       .collect()"
      ],
      "execution_count": null,
      "outputs": []
    },
    {
      "cell_type": "code",
      "metadata": {
        "id": "MGjTzzsdbB9d"
      },
      "source": [
        "# check the lenghts of the list containing the frequent pairs\n",
        "\n",
        "counters_2perc.append(len(new_freq_itemsets))                                   # needless to go futher, since also for threshold = 1% there were no triplets"
      ],
      "execution_count": null,
      "outputs": []
    },
    {
      "cell_type": "code",
      "metadata": {
        "colab": {
          "base_uri": "https://localhost:8080/"
        },
        "id": "G-ZzpFwEETsn",
        "outputId": "5e6a955f-ba4d-43e7-e559-b5b9868eca4d"
      },
      "source": [
        "counters_2perc"
      ],
      "execution_count": null,
      "outputs": [
        {
          "output_type": "execute_result",
          "data": {
            "text/plain": [
              "[68, 2]"
            ]
          },
          "metadata": {
            "tags": []
          },
          "execution_count": 67
        }
      ]
    },
    {
      "cell_type": "markdown",
      "metadata": {
        "id": "Ue7Yaw8xC8BT"
      },
      "source": [
        "------------------------------------------"
      ]
    },
    {
      "cell_type": "markdown",
      "metadata": {
        "id": "C36eE2Ky0287"
      },
      "source": [
        "### Threshold = 0.03\n",
        "\n"
      ]
    },
    {
      "cell_type": "code",
      "metadata": {
        "id": "4knhkccj07ql"
      },
      "source": [
        "threshold = 0.03"
      ],
      "execution_count": null,
      "outputs": []
    },
    {
      "cell_type": "code",
      "metadata": {
        "id": "nWi9oOSO073O"
      },
      "source": [
        "freq_items = text_tokenized.flatMap(lambda bow: [(word, 1) for word in bow]) \\\n",
        "                                 .reduceByKey(sumcum) \\\n",
        "                                 .filter(lambda t: t[1] >= threshold*N) \\\n",
        "                                 .collect()"
      ],
      "execution_count": null,
      "outputs": []
    },
    {
      "cell_type": "code",
      "metadata": {
        "id": "3IlwVBmQ08C1"
      },
      "source": [
        "freq_singletons = list(map(lambda x: x[0], freq_items))"
      ],
      "execution_count": null,
      "outputs": []
    },
    {
      "cell_type": "code",
      "metadata": {
        "id": "DnST6esq08OI"
      },
      "source": [
        "counters_3perc = []\n",
        "\n",
        "counters_3perc.append(len(freq_singletons))"
      ],
      "execution_count": null,
      "outputs": []
    },
    {
      "cell_type": "code",
      "metadata": {
        "id": "Pmtnx8Rj08aw"
      },
      "source": [
        "new_freq_itemsets = text_tokenized.flatMap(lambda bow: candidate_combinations(bow, candidates)) \\\n",
        "                       .reduceByKey(sumcum) \\\n",
        "                       .filter(lambda t: t[1] >= threshold*N) \\\n",
        "                       .collect()"
      ],
      "execution_count": null,
      "outputs": []
    },
    {
      "cell_type": "code",
      "metadata": {
        "id": "zZJ1Gz8L1SId"
      },
      "source": [
        "old_freq_itemsets = list(map(lambda x: x[0], new_freq_itemsets))"
      ],
      "execution_count": null,
      "outputs": []
    },
    {
      "cell_type": "code",
      "metadata": {
        "id": "ptVIHnlW1SQA"
      },
      "source": [
        "counters_3perc.append(len(old_freq_itemsets))"
      ],
      "execution_count": null,
      "outputs": []
    },
    {
      "cell_type": "code",
      "metadata": {
        "id": "LGo6N_3tgaUh",
        "colab": {
          "base_uri": "https://localhost:8080/"
        },
        "outputId": "a1d71bd4-c45b-492c-96cd-62a164469957"
      },
      "source": [
        "counters_3perc"
      ],
      "execution_count": null,
      "outputs": [
        {
          "output_type": "execute_result",
          "data": {
            "text/plain": [
              "[27, 0]"
            ]
          },
          "metadata": {
            "tags": []
          },
          "execution_count": 75
        }
      ]
    },
    {
      "cell_type": "markdown",
      "metadata": {
        "id": "zZepExhuiele"
      },
      "source": [
        "### Plot of counters of frequent itemsets"
      ]
    },
    {
      "cell_type": "code",
      "metadata": {
        "id": "OufmbFNKi3Ig"
      },
      "source": [
        "import pandas as pd\n",
        "import matplotlib.pyplot as plt"
      ],
      "execution_count": null,
      "outputs": []
    },
    {
      "cell_type": "code",
      "metadata": {
        "id": "ySGZij-Zik62"
      },
      "source": [
        "counters_per_threshold = [counters_1perc, counters_2perc, counters_3perc]\n",
        "\n",
        "counters_per_threshold = pd.DataFrame(counters_per_threshold)\n",
        "counters_per_threshold.columns = ['1','2']\n",
        "counters_per_threshold['thresholds'] = [0.01, 0.02, 0.03]"
      ],
      "execution_count": null,
      "outputs": []
    },
    {
      "cell_type": "code",
      "metadata": {
        "id": "sw6cQaQtjLvS",
        "colab": {
          "base_uri": "https://localhost:8080/",
          "height": 571
        },
        "outputId": "e27e4b06-eb35-4b57-f283-4d87c3af8f36"
      },
      "source": [
        "df = pd.melt(counters_per_threshold, id_vars=\"thresholds\", var_name=\"cardinality\", value_name=\"numbers\")\n",
        "\n",
        "f, ax = plt.subplots(figsize = (12,8))\n",
        "sns.barplot(x = 'thresholds', y = 'numbers', hue = 'cardinality', data = df, ax = ax)\n",
        "f.suptitle(\"Counts of frequent itemsets per threshold\")"
      ],
      "execution_count": null,
      "outputs": [
        {
          "output_type": "execute_result",
          "data": {
            "text/plain": [
              "Text(0.5, 0.98, 'Counts of frequent itemsets per threshold')"
            ]
          },
          "metadata": {
            "tags": []
          },
          "execution_count": 30
        },
        {
          "output_type": "display_data",
          "data": {
            "image/png": "[encoded data removed]",
            "text/plain": [
              "<Figure size 864x576 with 1 Axes>"
            ]
          },
          "metadata": {
            "tags": [],
            "needs_background": "light"
          }
        }
      ]
    },
    {
      "cell_type": "markdown",
      "metadata": {
        "id": "jX2HrQ8ilkVh"
      },
      "source": [
        "## A-Priori Algorithm in a single function"
      ]
    },
    {
      "cell_type": "code",
      "metadata": {
        "id": "hu-ydOwyGaUp"
      },
      "source": [
        "import itertools\n",
        "\n",
        "def find_candidate_itemsets(old_freq_itemsets, K):\n",
        "\n",
        "  ### ARGS\n",
        "  # old_freq_itemsets --> list of itemsets that were found to be frequent in previous pass\n",
        "  # K --> cardinality of new candidate itemsets\n",
        "\n",
        "  ### OUTPUT\n",
        "  # list of candidate itemsets, as sets\n",
        "\n",
        "  ### REQUIRES\n",
        "  # libraries: itertools\n",
        "\n",
        "  candidates = []\n",
        "\n",
        "  for comb in list(itertools.combinations(old_freq_itemsets, K)):               # for each combination of K itemsets, e.g. [('a','b'),('c','a'),('b','c')]\n",
        "    cand = set().union(*comb)                                                   # define the union set, e.g. {'a','b','c'}\n",
        "    if len(cand) == K:\n",
        "      candidates.append(cand)                                                   # and let the union be a candidate itemset if its cardinality is K\n",
        "\n",
        "  return candidates \n",
        "\n",
        "def sumcum(x,y):\n",
        "  return x+y"
      ],
      "execution_count": null,
      "outputs": []
    },
    {
      "cell_type": "code",
      "metadata": {
        "id": "KkRn9l-K3doz"
      },
      "source": [
        "def a_priori(rdd, threshold):\n",
        "\n",
        "  ### ARGS\n",
        "  # rdd --> a PySpark RDD, each basket is a list of words\n",
        "  # threshold --> the number of baskets above which an itemset is considered frequent, here it is not a percentage\n",
        "\n",
        "  ### OUTPUT\n",
        "  # the list of frequent itemsets\n",
        "\n",
        "  ### REQUIRES\n",
        "  # functions: sumcum, find_candidate_itemsets\n",
        "  # libraries: itertools, pyspark\n",
        "  \n",
        "  rdd.cache()\n",
        "\n",
        "  # sum all counters to obtain singleton counts\n",
        "  freq_itemsets = rdd.flatMap(lambda bow: [(word, 1) for word in bow]) \\\n",
        "                     .reduceByKey(sumcum) \\\n",
        "                     .filter(lambda count: count[1] > threshold) \\\n",
        "                     .collect()\n",
        "\n",
        "  # filters the counters exceeding the threshold\n",
        "  freq_singletons = list(map(lambda x: x[0], freq_itemsets))\n",
        "\n",
        "  # find candidate pairs using itertools.combinations()\n",
        "  candidates = list(itertools.combinations(freq_singletons, 2))\n",
        "  candidates = list(map(set, candidates))\n",
        "\n",
        "\n",
        "  K = 3\n",
        "\n",
        "  while len(candidates) > 0:\n",
        "\n",
        "    # find the candidates in the baskets and count them\n",
        "    new_freq_itemsets = rdd.flatMap(lambda bow: [(tuple(c), 1) for c in candidates if c.issubset(set(bow))]) \\\n",
        "                           .reduceByKey(sumcum) \\\n",
        "                           .filter(lambda count: count[1] >= threshold) \\\n",
        "                           .collect()\n",
        "\n",
        "\n",
        "\n",
        "    # update the output\n",
        "    freq_itemsets += new_freq_itemsets\n",
        "\n",
        "    # assigns newly found frequent itemsets\n",
        "    old_freq_itemsets = list(map(lambda x: x[0], new_freq_itemsets))\n",
        "\n",
        "    # new candidates\n",
        "    candidates = find_candidate_itemsets(old_freq_itemsets, K)\n",
        "    \n",
        "    K += 1\n",
        "\n",
        "  rdd.unpersist()\n",
        "\n",
        "  return freq_itemsets"
      ],
      "execution_count": null,
      "outputs": []
    },
    {
      "cell_type": "markdown",
      "metadata": {
        "id": "LGU79WZzHrrm"
      },
      "source": [
        "Plot the time it takes to run the algorithm with a fixed threshold but different size of the dataset to prove scalability"
      ]
    },
    {
      "cell_type": "code",
      "metadata": {
        "id": "z1dbAFsmIBeP"
      },
      "source": [
        "from time import time"
      ],
      "execution_count": null,
      "outputs": []
    },
    {
      "cell_type": "code",
      "metadata": {
        "colab": {
          "background_save": true
        },
        "id": "jMkxxuJw-72w"
      },
      "source": [
        "# try with different size of the dataset to prove scalability\n",
        "\n",
        "sizes = [0.05, 0.1, 0.25, 0.5, 1]  # sizes are approx. 5000, 10000, 25000, 50000, 100000 for the English dataset\n",
        "durations = []\n",
        "\n",
        "for s in sizes:\n",
        "  \n",
        "  sampled_data = text_tokenized.sample(withReplacement = False, fraction = s)\n",
        "  start = time()\n",
        "  a_priori(sampled_data, 0.01*s*N)\n",
        "  durations.append(time()-start)\n"
      ],
      "execution_count": null,
      "outputs": []
    },
    {
      "cell_type": "code",
      "metadata": {
        "colab": {
          "base_uri": "https://localhost:8080/"
        },
        "id": "GD5nwLKazEPn",
        "outputId": "85351f2b-a9b5-4189-af7c-293c430d8e84"
      },
      "source": [
        "durations"
      ],
      "execution_count": null,
      "outputs": [
        {
          "output_type": "execute_result",
          "data": {
            "text/plain": [
              "[150.4057731628418,\n",
              " 224.11750507354736,\n",
              " 332.947110414505,\n",
              " 1118.2760603427887,\n",
              " 2078.3568794727325]"
            ]
          },
          "metadata": {
            "tags": []
          },
          "execution_count": 41
        }
      ]
    },
    {
      "cell_type": "code",
      "metadata": {
        "colab": {
          "base_uri": "https://localhost:8080/",
          "height": 312
        },
        "id": "w1XdX0rDHnVy",
        "outputId": "1f502c47-9524-497a-aeb9-43cf3f0d3fd9"
      },
      "source": [
        "plt.plot([N*size for size in sizes], durations, 'r-')\n",
        "plt.title(\"Time to run algorithm\")\n",
        "plt.xlabel(\"Size of the RDD\")\n",
        "plt.ylabel(\"Time (seconds)\")"
      ],
      "execution_count": null,
      "outputs": [
        {
          "output_type": "execute_result",
          "data": {
            "text/plain": [
              "Text(0, 0.5, 'Time (seconds)')"
            ]
          },
          "metadata": {
            "tags": []
          },
          "execution_count": 42
        },
        {
          "output_type": "display_data",
          "data": {
            "image/png": "[encoded data removed]",
            "text/plain": [
              "<Figure size 432x288 with 1 Axes>"
            ]
          },
          "metadata": {
            "tags": []
          }
        }
      ]
    },
    {
      "cell_type": "markdown",
      "metadata": {
        "id": "mRagepzctAOr"
      },
      "source": [
        "--------------------------------------------------------"
      ]
    },
    {
      "cell_type": "markdown",
      "metadata": {
        "id": "OMGH5lD-3Pms"
      },
      "source": [
        "## Toivonen Algorithm "
      ]
    },
    {
      "cell_type": "markdown",
      "metadata": {
        "id": "dK5ha5RdjgC0"
      },
      "source": [
        "Since the code risks running for too long (possibly indefinitely)due to the sampling, we will look at the frequent itemsets which are not found in the samples, in order to measure inaccuracy of running the A-Priori algorithm (chosen as underlying algorithm) on a sample rather than on the entire dataset. \n",
        "We will use several sampling percentages, the expected result is: the higher the size of the sample, the lower the number of missing itemsets."
      ]
    },
    {
      "cell_type": "code",
      "metadata": {
        "id": "dlb25Ks-MZoO"
      },
      "source": [
        "import itertools\n",
        "\n",
        "def find_candidate_itemsets(old_freq_itemsets, K):\n",
        "\n",
        "  ### ARGS\n",
        "  # old_freq_itemsets --> list of itemsets that were found to be frequent in previous pass\n",
        "  # K --> cardinality of new candidate itemsets\n",
        "\n",
        "  ### OUTPUT\n",
        "  # list of candidate itemsets, as sets\n",
        "\n",
        "  ### REQUIRES\n",
        "  # libraries: itertools\n",
        "\n",
        "  candidates = []\n",
        "\n",
        "  for comb in list(itertools.combinations(old_freq_itemsets, K)):               # for each combination of K itemsets, e.g. [('a','b'),('c','a'),('b','c')]\n",
        "    cand = set().union(*comb)                                                   # define the union set, e.g. {'a','b','c'}\n",
        "    if len(cand) == K:\n",
        "      candidates.append(cand)                                                   # and let the union be a candidate itemset if its cardinality is K\n",
        "\n",
        "  return candidates \n",
        "\n",
        "def sumcum(x,y):\n",
        "  return x+y"
      ],
      "execution_count": null,
      "outputs": []
    },
    {
      "cell_type": "code",
      "metadata": {
        "id": "DweD1BrILvXD"
      },
      "source": [
        "# change threshold here, we tested 0.01, 0.02, 0.03\n",
        "\n",
        "threshold = 0.03\n",
        "N = text_tokenized.count()"
      ],
      "execution_count": null,
      "outputs": []
    },
    {
      "cell_type": "code",
      "metadata": {
        "id": "iSKKWK_zmZL5"
      },
      "source": [
        "# first, we need to sample p% baskets (bags-of-words)\n",
        "# we can collect the sampled dataset if it is much smaller than the original one\n",
        "# change p here to use different sampling percentages, we chose 5%, 10%, 15%\n",
        "\n",
        "p = 0.05\n",
        "\n",
        "sampled_data = text_tokenized.sample(withReplacement = False, fraction = p, seed = 1407) \\\n",
        "                           .collect()\n",
        "\n",
        "# define a threshold slightly lower than the global one\n",
        "local_threshold = 0.999*threshold                                               # threshold here is a percentage, so no need to multiply by p"
      ],
      "execution_count": null,
      "outputs": []
    },
    {
      "cell_type": "code",
      "metadata": {
        "colab": {
          "base_uri": "https://localhost:8080/"
        },
        "id": "3W-AynXwmxpP",
        "outputId": "15d5ca98-a636-4a94-fea0-48223d092d48"
      },
      "source": [
        "# use built-in A-Priori as algorithm for each pass\n",
        "\n",
        "! pip install apyori\n",
        "\n",
        "from apyori import apriori"
      ],
      "execution_count": null,
      "outputs": [
        {
          "output_type": "stream",
          "text": [
            "Collecting apyori\n",
            "  Downloading https://files.pythonhosted.org/packages/5e/62/5ffde5c473ea4b033490617ec5caa80d59804875ad3c3c57c0976533a21a/apyori-1.1.2.tar.gz\n",
            "Building wheels for collected packages: apyori\n",
            "  Building wheel for apyori (setup.py) ... \u001b[?25l\u001b[?25hdone\n",
            "  Created wheel for apyori: filename=apyori-1.1.2-cp37-none-any.whl size=5975 sha256=094407dec7cd93e3034745fbf8e80afaf926bf29cb361de477bebbd59d598eca\n",
            "  Stored in directory: /root/.cache/pip/wheels/5d/92/bb/474bbadbc8c0062b9eb168f69982a0443263f8ab1711a8cad0\n",
            "Successfully built apyori\n",
            "Installing collected packages: apyori\n",
            "Successfully installed apyori-1.1.2\n"
          ],
          "name": "stdout"
        }
      ]
    },
    {
      "cell_type": "code",
      "metadata": {
        "id": "TeqGma4NsdoB"
      },
      "source": [
        "sample_freq_itemsets = list(apriori(sampled_data, min_support = local_threshold))\n",
        "sample_freq_itemsets = [list(sample_freq_itemsets[i][0]) for i in range(0,len(sample_freq_itemsets))]"
      ],
      "execution_count": null,
      "outputs": []
    },
    {
      "cell_type": "code",
      "metadata": {
        "id": "osrWIbRBnSOm"
      },
      "source": [
        "# build the negative border by finding all itemsets that are not frequent in the sample,\n",
        "# but whose immediate subsets are frequent in it\n",
        "# we can use the already defined function find_candidate_itemsets\n",
        "\n",
        "k = 1\n",
        "nb = []\n",
        "freq_k_itemsets = list(filter(lambda x: len(x) == 1, sample_freq_itemsets))\n",
        "checklist = list(map(set, sample_freq_itemsets))\n",
        "\n",
        "while len(freq_k_itemsets) > 0:\n",
        "  \n",
        "  nb_candidates = find_candidate_itemsets(freq_k_itemsets, k+1)\n",
        "  checklist_k1 = list(filter(lambda x: len(x) == k+1, checklist))\n",
        "  nb_candidates = list(filter(lambda x: x not in checklist, nb_candidates))\n",
        "  nb += nb_candidates\n",
        "\n",
        "  k += 1\n",
        "  freq_k_itemsets = list(filter(lambda x: len(x) == k, sample_freq_itemsets))"
      ],
      "execution_count": null,
      "outputs": []
    },
    {
      "cell_type": "code",
      "metadata": {
        "id": "taP2gXGcqxE3",
        "colab": {
          "base_uri": "https://localhost:8080/",
          "height": 374
        },
        "outputId": "92681800-7f91-4bbe-c23c-b5a12ff54dd8"
      },
      "source": [
        "# verifying if the items belonging to the negative border are frequent in the eng_tokenized\n",
        "trial = text_tokenized.flatMap(lambda bow: [(tuple(c), 1) for c in nb if c.issubset(set(bow))]) \\\n",
        "                     .reduceByKey(sumcum) \\\n",
        "                     .filter(lambda t: t[1] >= threshold*N) \\\n",
        "                     .collect()\n",
        "\n",
        "# to complete the algorithm, we would need to restart from the sampling if the condition len(trial) > 0 is satisfied"
      ],
      "execution_count": null,
      "outputs": [
        {
          "output_type": "error",
          "ename": "KeyboardInterrupt",
          "evalue": "ignored",
          "traceback": [
            "\u001b[0;31m---------------------------------------------------------------------------\u001b[0m",
            "\u001b[0;31mKeyboardInterrupt\u001b[0m                         Traceback (most recent call last)",
            "\u001b[0;32m<ipython-input-80-34ae752afb1b>\u001b[0m in \u001b[0;36m<module>\u001b[0;34m()\u001b[0m\n\u001b[1;32m      1\u001b[0m \u001b[0;31m# verifying if the items belonging to the negative border are frequent in the eng_tokenized\u001b[0m\u001b[0;34m\u001b[0m\u001b[0;34m\u001b[0m\u001b[0;34m\u001b[0m\u001b[0m\n\u001b[0;32m----> 2\u001b[0;31m \u001b[0mtrial\u001b[0m \u001b[0;34m=\u001b[0m \u001b[0mtext_tokenized\u001b[0m\u001b[0;34m.\u001b[0m\u001b[0mflatMap\u001b[0m\u001b[0;34m(\u001b[0m\u001b[0;32mlambda\u001b[0m \u001b[0mbow\u001b[0m\u001b[0;34m:\u001b[0m \u001b[0;34m[\u001b[0m\u001b[0;34m(\u001b[0m\u001b[0mtuple\u001b[0m\u001b[0;34m(\u001b[0m\u001b[0mc\u001b[0m\u001b[0;34m)\u001b[0m\u001b[0;34m,\u001b[0m \u001b[0;36m1\u001b[0m\u001b[0;34m)\u001b[0m \u001b[0;32mfor\u001b[0m \u001b[0mc\u001b[0m \u001b[0;32min\u001b[0m \u001b[0mnb\u001b[0m \u001b[0;32mif\u001b[0m \u001b[0mc\u001b[0m\u001b[0;34m.\u001b[0m\u001b[0missubset\u001b[0m\u001b[0;34m(\u001b[0m\u001b[0mset\u001b[0m\u001b[0;34m(\u001b[0m\u001b[0mbow\u001b[0m\u001b[0;34m)\u001b[0m\u001b[0;34m)\u001b[0m\u001b[0;34m]\u001b[0m\u001b[0;34m)\u001b[0m                      \u001b[0;34m.\u001b[0m\u001b[0mreduceByKey\u001b[0m\u001b[0;34m(\u001b[0m\u001b[0msumcum\u001b[0m\u001b[0;34m)\u001b[0m                      \u001b[0;34m.\u001b[0m\u001b[0mfilter\u001b[0m\u001b[0;34m(\u001b[0m\u001b[0;32mlambda\u001b[0m \u001b[0mt\u001b[0m\u001b[0;34m:\u001b[0m \u001b[0mt\u001b[0m\u001b[0;34m[\u001b[0m\u001b[0;36m1\u001b[0m\u001b[0;34m]\u001b[0m \u001b[0;34m>=\u001b[0m \u001b[0mthreshold\u001b[0m\u001b[0;34m*\u001b[0m\u001b[0mN\u001b[0m\u001b[0;34m)\u001b[0m                      \u001b[0;34m.\u001b[0m\u001b[0mcollect\u001b[0m\u001b[0;34m(\u001b[0m\u001b[0;34m)\u001b[0m\u001b[0;34m\u001b[0m\u001b[0;34m\u001b[0m\u001b[0m\n\u001b[0m\u001b[1;32m      3\u001b[0m \u001b[0;34m\u001b[0m\u001b[0m\n\u001b[1;32m      4\u001b[0m \u001b[0;31m# to complete the algorithm, we would need to restart from the sampling if the condition len(trial) > 0 is satisfied\u001b[0m\u001b[0;34m\u001b[0m\u001b[0;34m\u001b[0m\u001b[0;34m\u001b[0m\u001b[0m\n",
            "\u001b[0;32m/usr/local/lib/python3.7/dist-packages/pyspark/rdd.py\u001b[0m in \u001b[0;36mcollect\u001b[0;34m(self)\u001b[0m\n\u001b[1;32m    947\u001b[0m         \"\"\"\n\u001b[1;32m    948\u001b[0m         \u001b[0;32mwith\u001b[0m \u001b[0mSCCallSiteSync\u001b[0m\u001b[0;34m(\u001b[0m\u001b[0mself\u001b[0m\u001b[0;34m.\u001b[0m\u001b[0mcontext\u001b[0m\u001b[0;34m)\u001b[0m \u001b[0;32mas\u001b[0m \u001b[0mcss\u001b[0m\u001b[0;34m:\u001b[0m\u001b[0;34m\u001b[0m\u001b[0;34m\u001b[0m\u001b[0m\n\u001b[0;32m--> 949\u001b[0;31m             \u001b[0msock_info\u001b[0m \u001b[0;34m=\u001b[0m \u001b[0mself\u001b[0m\u001b[0;34m.\u001b[0m\u001b[0mctx\u001b[0m\u001b[0;34m.\u001b[0m\u001b[0m_jvm\u001b[0m\u001b[0;34m.\u001b[0m\u001b[0mPythonRDD\u001b[0m\u001b[0;34m.\u001b[0m\u001b[0mcollectAndServe\u001b[0m\u001b[0;34m(\u001b[0m\u001b[0mself\u001b[0m\u001b[0;34m.\u001b[0m\u001b[0m_jrdd\u001b[0m\u001b[0;34m.\u001b[0m\u001b[0mrdd\u001b[0m\u001b[0;34m(\u001b[0m\u001b[0;34m)\u001b[0m\u001b[0;34m)\u001b[0m\u001b[0;34m\u001b[0m\u001b[0;34m\u001b[0m\u001b[0m\n\u001b[0m\u001b[1;32m    950\u001b[0m         \u001b[0;32mreturn\u001b[0m \u001b[0mlist\u001b[0m\u001b[0;34m(\u001b[0m\u001b[0m_load_from_socket\u001b[0m\u001b[0;34m(\u001b[0m\u001b[0msock_info\u001b[0m\u001b[0;34m,\u001b[0m \u001b[0mself\u001b[0m\u001b[0;34m.\u001b[0m\u001b[0m_jrdd_deserializer\u001b[0m\u001b[0;34m)\u001b[0m\u001b[0;34m)\u001b[0m\u001b[0;34m\u001b[0m\u001b[0;34m\u001b[0m\u001b[0m\n\u001b[1;32m    951\u001b[0m \u001b[0;34m\u001b[0m\u001b[0m\n",
            "\u001b[0;32m/usr/local/lib/python3.7/dist-packages/py4j/java_gateway.py\u001b[0m in \u001b[0;36m__call__\u001b[0;34m(self, *args)\u001b[0m\n\u001b[1;32m   1301\u001b[0m             \u001b[0mproto\u001b[0m\u001b[0;34m.\u001b[0m\u001b[0mEND_COMMAND_PART\u001b[0m\u001b[0;34m\u001b[0m\u001b[0;34m\u001b[0m\u001b[0m\n\u001b[1;32m   1302\u001b[0m \u001b[0;34m\u001b[0m\u001b[0m\n\u001b[0;32m-> 1303\u001b[0;31m         \u001b[0manswer\u001b[0m \u001b[0;34m=\u001b[0m \u001b[0mself\u001b[0m\u001b[0;34m.\u001b[0m\u001b[0mgateway_client\u001b[0m\u001b[0;34m.\u001b[0m\u001b[0msend_command\u001b[0m\u001b[0;34m(\u001b[0m\u001b[0mcommand\u001b[0m\u001b[0;34m)\u001b[0m\u001b[0;34m\u001b[0m\u001b[0;34m\u001b[0m\u001b[0m\n\u001b[0m\u001b[1;32m   1304\u001b[0m         return_value = get_return_value(\n\u001b[1;32m   1305\u001b[0m             answer, self.gateway_client, self.target_id, self.name)\n",
            "\u001b[0;32m/usr/local/lib/python3.7/dist-packages/py4j/java_gateway.py\u001b[0m in \u001b[0;36msend_command\u001b[0;34m(self, command, retry, binary)\u001b[0m\n\u001b[1;32m   1031\u001b[0m         \u001b[0mconnection\u001b[0m \u001b[0;34m=\u001b[0m \u001b[0mself\u001b[0m\u001b[0;34m.\u001b[0m\u001b[0m_get_connection\u001b[0m\u001b[0;34m(\u001b[0m\u001b[0;34m)\u001b[0m\u001b[0;34m\u001b[0m\u001b[0;34m\u001b[0m\u001b[0m\n\u001b[1;32m   1032\u001b[0m         \u001b[0;32mtry\u001b[0m\u001b[0;34m:\u001b[0m\u001b[0;34m\u001b[0m\u001b[0;34m\u001b[0m\u001b[0m\n\u001b[0;32m-> 1033\u001b[0;31m             \u001b[0mresponse\u001b[0m \u001b[0;34m=\u001b[0m \u001b[0mconnection\u001b[0m\u001b[0;34m.\u001b[0m\u001b[0msend_command\u001b[0m\u001b[0;34m(\u001b[0m\u001b[0mcommand\u001b[0m\u001b[0;34m)\u001b[0m\u001b[0;34m\u001b[0m\u001b[0;34m\u001b[0m\u001b[0m\n\u001b[0m\u001b[1;32m   1034\u001b[0m             \u001b[0;32mif\u001b[0m \u001b[0mbinary\u001b[0m\u001b[0;34m:\u001b[0m\u001b[0;34m\u001b[0m\u001b[0;34m\u001b[0m\u001b[0m\n\u001b[1;32m   1035\u001b[0m                 \u001b[0;32mreturn\u001b[0m \u001b[0mresponse\u001b[0m\u001b[0;34m,\u001b[0m \u001b[0mself\u001b[0m\u001b[0;34m.\u001b[0m\u001b[0m_create_connection_guard\u001b[0m\u001b[0;34m(\u001b[0m\u001b[0mconnection\u001b[0m\u001b[0;34m)\u001b[0m\u001b[0;34m\u001b[0m\u001b[0;34m\u001b[0m\u001b[0m\n",
            "\u001b[0;32m/usr/local/lib/python3.7/dist-packages/py4j/java_gateway.py\u001b[0m in \u001b[0;36msend_command\u001b[0;34m(self, command)\u001b[0m\n\u001b[1;32m   1198\u001b[0m \u001b[0;34m\u001b[0m\u001b[0m\n\u001b[1;32m   1199\u001b[0m         \u001b[0;32mtry\u001b[0m\u001b[0;34m:\u001b[0m\u001b[0;34m\u001b[0m\u001b[0;34m\u001b[0m\u001b[0m\n\u001b[0;32m-> 1200\u001b[0;31m             \u001b[0manswer\u001b[0m \u001b[0;34m=\u001b[0m \u001b[0msmart_decode\u001b[0m\u001b[0;34m(\u001b[0m\u001b[0mself\u001b[0m\u001b[0;34m.\u001b[0m\u001b[0mstream\u001b[0m\u001b[0;34m.\u001b[0m\u001b[0mreadline\u001b[0m\u001b[0;34m(\u001b[0m\u001b[0;34m)\u001b[0m\u001b[0;34m[\u001b[0m\u001b[0;34m:\u001b[0m\u001b[0;34m-\u001b[0m\u001b[0;36m1\u001b[0m\u001b[0;34m]\u001b[0m\u001b[0;34m)\u001b[0m\u001b[0;34m\u001b[0m\u001b[0;34m\u001b[0m\u001b[0m\n\u001b[0m\u001b[1;32m   1201\u001b[0m             \u001b[0mlogger\u001b[0m\u001b[0;34m.\u001b[0m\u001b[0mdebug\u001b[0m\u001b[0;34m(\u001b[0m\u001b[0;34m\"Answer received: {0}\"\u001b[0m\u001b[0;34m.\u001b[0m\u001b[0mformat\u001b[0m\u001b[0;34m(\u001b[0m\u001b[0manswer\u001b[0m\u001b[0;34m)\u001b[0m\u001b[0;34m)\u001b[0m\u001b[0;34m\u001b[0m\u001b[0;34m\u001b[0m\u001b[0m\n\u001b[1;32m   1202\u001b[0m             \u001b[0;32mif\u001b[0m \u001b[0manswer\u001b[0m\u001b[0;34m.\u001b[0m\u001b[0mstartswith\u001b[0m\u001b[0;34m(\u001b[0m\u001b[0mproto\u001b[0m\u001b[0;34m.\u001b[0m\u001b[0mRETURN_MESSAGE\u001b[0m\u001b[0;34m)\u001b[0m\u001b[0;34m:\u001b[0m\u001b[0;34m\u001b[0m\u001b[0;34m\u001b[0m\u001b[0m\n",
            "\u001b[0;32m/usr/lib/python3.7/socket.py\u001b[0m in \u001b[0;36mreadinto\u001b[0;34m(self, b)\u001b[0m\n\u001b[1;32m    587\u001b[0m         \u001b[0;32mwhile\u001b[0m \u001b[0;32mTrue\u001b[0m\u001b[0;34m:\u001b[0m\u001b[0;34m\u001b[0m\u001b[0;34m\u001b[0m\u001b[0m\n\u001b[1;32m    588\u001b[0m             \u001b[0;32mtry\u001b[0m\u001b[0;34m:\u001b[0m\u001b[0;34m\u001b[0m\u001b[0;34m\u001b[0m\u001b[0m\n\u001b[0;32m--> 589\u001b[0;31m                 \u001b[0;32mreturn\u001b[0m \u001b[0mself\u001b[0m\u001b[0;34m.\u001b[0m\u001b[0m_sock\u001b[0m\u001b[0;34m.\u001b[0m\u001b[0mrecv_into\u001b[0m\u001b[0;34m(\u001b[0m\u001b[0mb\u001b[0m\u001b[0;34m)\u001b[0m\u001b[0;34m\u001b[0m\u001b[0;34m\u001b[0m\u001b[0m\n\u001b[0m\u001b[1;32m    590\u001b[0m             \u001b[0;32mexcept\u001b[0m \u001b[0mtimeout\u001b[0m\u001b[0;34m:\u001b[0m\u001b[0;34m\u001b[0m\u001b[0;34m\u001b[0m\u001b[0m\n\u001b[1;32m    591\u001b[0m                 \u001b[0mself\u001b[0m\u001b[0;34m.\u001b[0m\u001b[0m_timeout_occurred\u001b[0m \u001b[0;34m=\u001b[0m \u001b[0;32mTrue\u001b[0m\u001b[0;34m\u001b[0m\u001b[0;34m\u001b[0m\u001b[0m\n",
            "\u001b[0;31mKeyboardInterrupt\u001b[0m: "
          ]
        }
      ]
    },
    {
      "cell_type": "code",
      "metadata": {
        "id": "w4T78Bwmkt-w"
      },
      "source": [
        "len(trial), trial"
      ],
      "execution_count": null,
      "outputs": []
    }
  ]
}